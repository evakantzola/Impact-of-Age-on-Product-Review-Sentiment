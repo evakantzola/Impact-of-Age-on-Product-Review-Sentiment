{
 "cells": [
  {
   "cell_type": "code",
   "execution_count": 1,
   "metadata": {},
   "outputs": [],
   "source": [
    "import numpy as np \n",
    "import pandas as pd \n",
    "import re\n",
    "import nltk \n",
    "import matplotlib.pyplot as plt\n",
    "%matplotlib inline\n",
    "from nltk.corpus import stopwords\n",
    "#nltk.download('punkt')\n",
    "#nltk.download()\n",
    "from nltk.stem import PorterStemmer  \n",
    "\n",
    "\n",
    "data = \"Womens Clothing E-Commerce Reviews.csv\"\n",
    "reviews = pd.read_csv(data)\n",
    "#reviews.head()"
   ]
  },
  {
   "cell_type": "code",
   "execution_count": 2,
   "metadata": {},
   "outputs": [],
   "source": [
    "#label each review either as positive or negative according to their rating\n",
    "#replace values: those which are rated with value from 1 to 3 as 0(negative) and from4 to 5 as 1(positive).\n",
    "reviews['Rating'].replace([1],[0],inplace=True) \n",
    "reviews['Rating'].replace([2],[0],inplace=True)\n",
    "reviews['Rating'].replace([3],[0],inplace=True)\n",
    "reviews['Rating'].replace([4],[1],inplace=True)\n",
    "reviews['Rating'].replace([5],[1],inplace=True)                           "
   ]
  },
  {
   "cell_type": "code",
   "execution_count": 3,
   "metadata": {},
   "outputs": [],
   "source": [
    "#change the name of column \"Rating\" to \"Polarity\", since now it contains the polarity values, 0 or 1.\n",
    "reviews.rename(columns={'Rating':'Polarity'}, inplace=True)"
   ]
  },
  {
   "cell_type": "code",
   "execution_count": 4,
   "metadata": {
    "scrolled": true
   },
   "outputs": [],
   "source": [
    "#save the three columns we will work with in a new dataframe\n",
    "header = ['Age','Review Text','Polarity']\n",
    "reviews.to_csv('output.csv', columns = header)"
   ]
  },
  {
   "cell_type": "code",
   "execution_count": 5,
   "metadata": {},
   "outputs": [],
   "source": [
    "dataset = pd.read_csv('output.csv') #extract and save in a new file the three columns that construct the main dataset\n",
    "#dataset.head()"
   ]
  },
  {
   "cell_type": "code",
   "execution_count": 6,
   "metadata": {},
   "outputs": [],
   "source": [
    "#replace empty cells in the column with Nan values\n",
    "dataset['Review Text'].replace('', np.nan, inplace=True) \n",
    "dataset.dropna(subset=['Review Text'], inplace=True) #remove all the Nan values, it removes also automaticall the whole row"
   ]
  },
  {
   "cell_type": "code",
   "execution_count": 7,
   "metadata": {},
   "outputs": [],
   "source": [
    "remove = ['Unnamed: 0'] #drop this column\n",
    "dataset.drop(remove, axis = 1, inplace=True)\n",
    "#dataset.head()"
   ]
  },
  {
   "cell_type": "code",
   "execution_count": 8,
   "metadata": {},
   "outputs": [],
   "source": [
    "dataset.to_csv('final_dataset.csv', index=False)"
   ]
  },
  {
   "cell_type": "code",
   "execution_count": 9,
   "metadata": {},
   "outputs": [],
   "source": [
    "data = pd.read_csv('final_dataset.csv')\n",
    "\n",
    "data.rename(columns={'Review Text':'ReviewText'}, inplace=True)"
   ]
  },
  {
   "cell_type": "code",
   "execution_count": 10,
   "metadata": {
    "scrolled": false
   },
   "outputs": [],
   "source": [
    "#### Preprocessing step ####\n",
    "\n",
    "import matplotlib.pyplot as plt\n",
    "\n",
    "data['ReviewText'] = data['ReviewText'].str.lower() #lowercase\n",
    "\n",
    "#Tokenization\n",
    "def tokenized(row):\n",
    "    review = row['ReviewText']\n",
    "    tokens = nltk.word_tokenize(review)\n",
    "    # remove punctuation and numbers\n",
    "    tokenized_words = [w for w in tokens if w.isalpha()]\n",
    "    return tokenized_words\n",
    "\n",
    "data['words'] = data.apply(tokenized, axis=1)\n",
    "\n",
    "\n",
    "#Stemming\n",
    "stemmer = PorterStemmer()\n",
    "\n",
    "def stem_list(row):\n",
    "    lst = row['words']\n",
    "    stemmed = [stemmer.stem(word) for word in lst]\n",
    "    return (stemmed)\n",
    "\n",
    "data['stemmed_words'] = data.apply(stem_list, axis=1)\n",
    "\n",
    "#Removal of Stopwords\n",
    "stop_words = set(stopwords.words(\"english\"))                  \n",
    "\n",
    "def remove_stopwords(row):\n",
    "    my_list = row['stemmed_words']\n",
    "    Nostopwords = [w for w in my_list if not w in stop_words]\n",
    "    return (Nostopwords)\n",
    "\n",
    "data['NoStops'] = data.apply(remove_stopwords, axis=1)\n",
    "\n",
    "\n",
    "#Join stemmed words into a new column\n",
    "def rejoin_words(row):\n",
    "    my_list = row['NoStops']\n",
    "    joined_words = ( \" \".join(my_list))\n",
    "    return joined_words\n",
    "\n",
    "data['ProcessedWords'] = data.apply(rejoin_words, axis=1)\n",
    "\n",
    "def show_wordcloud(data, title = None):\n",
    "    wordcloud = WordCloud(\n",
    "        background_color = 'white',\n",
    "        max_words = 200,\n",
    "        max_font_size = 40, \n",
    "        scale = 3,\n",
    "        random_state = 42\n",
    "    ).generate(str(data))\n",
    "\n",
    "    fig = plt.figure(1, figsize = (20, 20))\n",
    "    plt.axis('off')\n",
    "    if title: \n",
    "        fig.suptitle(title, fontsize = 20)\n",
    "        fig.subplots_adjust(top = 2.3)\n",
    "\n",
    "    plt.imshow(wordcloud)\n",
    "    plt.show()\n",
    "    \n",
    "drops = ['ReviewText', 'words', 'stemmed_words', 'NoStops'] #drop these columns\n",
    "data.drop(drops, axis = 1, inplace=True)\n",
    "data.to_csv('Reviews_processed.csv', index=False)"
   ]
  },
  {
   "cell_type": "code",
   "execution_count": 14,
   "metadata": {
    "scrolled": true
   },
   "outputs": [
    {
     "data": {
      "text/plain": [
       "<matplotlib.axes._subplots.AxesSubplot at 0x1e39a3ac630>"
      ]
     },
     "execution_count": 14,
     "metadata": {},
     "output_type": "execute_result"
    },
    {
     "data": {
      "image/png": "[encoded data removed]",
      "text/plain": [
       "<Figure size 432x288 with 1 Axes>"
      ]
     },
     "metadata": {
      "needs_background": "light"
     },
     "output_type": "display_data"
    }
   ],
   "source": [
    "#Dealing with impalanced dataset\n",
    "\n",
    "from sklearn.utils import resample\n",
    "import seaborn as sns\n",
    "reviews = pd.read_csv('Reviews_processed.csv')\n",
    "\n",
    "\n",
    "\n",
    "\n",
    "#Choose oversampling technique to balance the imbalanced dataset. This means that samples from the minority class\n",
    "#will be replicated randomly in order to match the majority class\n",
    "\n",
    "#Divide by class\n",
    "reviews_majority = reviews[reviews.Polarity == 1] # Majority Class\n",
    "reviews_minority = reviews[reviews.Polarity == 0] # Minority Class\n",
    "\n",
    "#upsampling minority class / with replacement to match majority class, so each classes will contain 17448 samples \n",
    "reviews_minority_upsampled = resample(reviews_minority,\n",
    "                                      replace=True,\n",
    "                                      n_samples=17448,\n",
    "                                      random_state=123)\n",
    "\n",
    "\n",
    "reviews_upsampled = pd.concat([reviews_majority, reviews_minority_upsampled]) #combine majority class with upsampled minority one\n",
    "reviews_upsampled.Polarity.value_counts() #count classes. Each class now contains 17448 reviews.\n",
    "\n",
    "#### Computing the relation between Age and Sentiment for specific age ranges ####\n",
    "\n",
    "reviews.rename(columns={'Polarity':'Sentiment'}, inplace=True)\n",
    "bins = pd.cut(reviews['Age'], [20, 30, 40, 50, 60, 70, 80, 90]) \n",
    "#the x-axis represents the age groups (per decade)\n",
    "reviews.groupby([bins, 'Sentiment']).size().unstack().plot(kind='bar',stacked=True)\n"
   ]
  },
  {
   "cell_type": "code",
   "execution_count": 27,
   "metadata": {},
   "outputs": [],
   "source": [
    "#### Feature Extraction ####\n",
    "#BagofWords\n",
    "from sklearn.feature_extraction.text import CountVectorizer\n",
    "from sklearn.feature_extraction.text import TfidfVectorizer\n",
    "from sklearn.preprocessing import LabelEncoder\n",
    "from collections import Counter\n",
    "from scipy.sparse import csr_matrix\n",
    "from sklearn.compose import ColumnTransformer\n",
    "from sklearn.preprocessing import OneHotEncoder\n",
    "from sklearn.model_selection import train_test_split\n",
    "from imblearn.over_sampling import RandomOverSampler\n",
    "from imblearn.over_sampling import SMOTE\n",
    "\n",
    "\n",
    "#labels correspond to 0 and 1.\n",
    "labels = reviews_upsampled.Polarity.values\n",
    "#features are related to text features and age features\n",
    "features = reviews_upsampled[['ProcessedWords','Age']].copy()\n",
    "\n",
    "#divide the dataset into 70% training set and 30% test set\n",
    "X_train, X_test, y_train, y_test = train_test_split(features, labels, test_size=0.3, random_state=0)\n",
    "\n",
    "#Column Transformer() generates each type of feature separately and then concatenates them into a single feature space\n",
    "preprocess = ColumnTransformer(\n",
    "    [('TextFeatures', CountVectorizer(ngram_range=(4, 4)), 'ProcessedWords'),\n",
    "    ('AgeFeatures', OneHotEncoder(dtype='int', handle_unknown='ignore'), ['Age'])],remainder = 'passthrough')\n",
    "\n",
    "#Text feeatures are converted into numerical values with CountVectorizer()\n",
    "#Age features are treated as categorical values\n",
    "\n",
    "\n"
   ]
  },
  {
   "cell_type": "code",
   "execution_count": 35,
   "metadata": {},
   "outputs": [
    {
     "name": "stdout",
     "output_type": "stream",
     "text": [
      "SVC(C=1.0, cache_size=200, class_weight=None, coef0=0.0,\n",
      "    decision_function_shape='ovr', degree=3, gamma='auto_deprecated',\n",
      "    kernel='linear', max_iter=-1, probability=False, random_state=None,\n",
      "    shrinking=True, tol=0.001, verbose=False)\n",
      "model score: 0.949\n"
     ]
    },
    {
     "data": {
      "image/png": "[encoded data removed]",
      "text/plain": [
       "<Figure size 864x864 with 2 Axes>"
      ]
     },
     "metadata": {
      "needs_background": "light"
     },
     "output_type": "display_data"
    }
   ],
   "source": [
    "#### Training of Classifiers and Evaluation ####\n",
    "\n",
    "from sklearn.naive_bayes import BernoulliNB\n",
    "from sklearn.linear_model import LogisticRegression\n",
    "from sklearn.svm import SVC\n",
    "from sklearn.ensemble import RandomForestClassifier\n",
    "from sklearn.preprocessing import MinMaxScaler\n",
    "from sklearn.naive_bayes import MultinomialNB\n",
    "from sklearn.pipeline import make_pipeline\n",
    "from sklearn.pipeline import Pipeline\n",
    "from sklearn.metrics import confusion_matrix\n",
    "from sklearn.metrics import accuracy_score \n",
    "from sklearn.metrics import classification_report\n",
    "import scikitplot as skplt\n",
    "\n",
    "\n",
    "classifiers = [\n",
    "    MultinomialNB(),\n",
    "    LogisticRegression(solver='liblinear'),\n",
    "    RandomForestClassifier(),\n",
    "    SVC(kernel = 'linear')\n",
    "]\n",
    "\n",
    "\n",
    "for classifier in classifiers:\n",
    "    model = Pipeline(steps=[('preprocess', preprocess),('classifier', classifier)])\n",
    "    model.fit(X_train, y_train)  \n",
    "    print(classifier)\n",
    "    print(\"model score: %.3f\" % model.score(X_test, y_test))\n",
    "    y_pred = model.predict(X_test)\n",
    "    print(classification_report(y_test, y_pred))\n",
    "    \n",
    "    #visualization of confusion matrix\n",
    "    skplt.metrics.plot_confusion_matrix(y_test, y_pred, figsize=(12,12), cmap='OrRd', title_fontsize = 'large', text_fontsize = 20)\n",
    "    \n",
    "\n"
   ]
  },
  {
   "cell_type": "code",
   "execution_count": null,
   "metadata": {},
   "outputs": [],
   "source": []
  },
  {
   "cell_type": "code",
   "execution_count": null,
   "metadata": {},
   "outputs": [],
   "source": []
  },
  {
   "cell_type": "code",
   "execution_count": null,
   "metadata": {},
   "outputs": [],
   "source": []
  }
 ],
 "metadata": {
  "kernelspec": {
   "display_name": "Python 3",
   "language": "python",
   "name": "python3"
  },
  "language_info": {
   "codemirror_mode": {
    "name": "ipython",
    "version": 3
   },
   "file_extension": ".py",
   "mimetype": "text/x-python",
   "name": "python",
   "nbconvert_exporter": "python",
   "pygments_lexer": "ipython3",
   "version": "3.7.3"
  }
 },
 "nbformat": 4,
 "nbformat_minor": 2
}
